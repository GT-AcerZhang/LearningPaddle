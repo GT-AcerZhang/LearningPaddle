{
 "cells": [
  {
   "cell_type": "markdown",
   "source": [
    "# 项目简介\n",
    "该项目使用PaddleX快速训练垃圾分类模型，然后通过PaddleLite部署到华为Mate20 Pro手机上，实现飞桨框架深度学习模型的落地。\n",
    "# 安装工具库\n"
   ],
   "metadata": {
    "collapsed": false
   }
  },
  {
   "cell_type": "code",
   "execution_count": null,
   "outputs": [],
   "source": [
    "!pip install paddlelite\n",
    "!pip install paddlex\n",
    "!pip install shapely\n"
   ],
   "metadata": {
    "collapsed": false,
    "pycharm": {
     "name": "#%%\n"
    }
   }
  },
  {
   "cell_type": "markdown",
   "source": [
    "# 准备数据集"
   ],
   "metadata": {
    "collapsed": false
   }
  },
  {
   "cell_type": "code",
   "execution_count": 1,
   "outputs": [
    {
     "name": "stdout",
     "text": [
      "--2020-07-05 11:07:22--  https://bj.bcebos.com/paddlex/datasets/garbage_ins_det.tar.gz\r\n",
      "Resolving bj.bcebos.com... failed: Name or service not known.\r\n",
      "wget: unable to resolve host address ‘bj.bcebos.com’\r\n",
      "tar (child): garbage_ins_det.tar.gz: Cannot open: No such file or directory\r\n",
      "tar (child): Error is not recoverable: exiting now\r\n",
      "tar: Child returned status 2\r\n",
      "tar: Error is not recoverable: exiting now\r\n"
     ],
     "output_type": "stream"
    }
   ],
   "source": [
    "! wget https://bj.bcebos.com/paddlex/datasets/garbage_ins_det.tar.gz\n",
    "! tar xzf garbage_ins_det.tar.gz"
   ],
   "metadata": {
    "collapsed": false,
    "pycharm": {
     "name": "#%%\n",
     "is_executing": false
    }
   }
  },
  {
   "cell_type": "code",
   "execution_count": null,
   "outputs": [],
   "source": [
    "\n"
   ],
   "metadata": {
    "collapsed": false,
    "pycharm": {
     "name": "#%%\n"
    }
   }
  }
 ],
 "metadata": {
  "kernelspec": {
   "display_name": "Python 3",
   "language": "python",
   "name": "python3"
  },
  "language_info": {
   "codemirror_mode": {
    "name": "ipython",
    "version": 2
   },
   "file_extension": ".py",
   "mimetype": "text/x-python",
   "name": "python",
   "nbconvert_exporter": "python",
   "pygments_lexer": "ipython2",
   "version": "2.7.6"
  },
  "pycharm": {
   "stem_cell": {
    "cell_type": "raw",
    "source": [],
    "metadata": {
     "collapsed": false
    }
   }
  }
 },
 "nbformat": 4,
 "nbformat_minor": 0
}